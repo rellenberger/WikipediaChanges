{
 "cells": [
  {
   "cell_type": "code",
   "execution_count": 1,
   "metadata": {},
   "outputs": [
    {
     "data": {
      "application/vnd.jupyter.widget-view+json": {
       "model_id": "4d52c0d6ce8449a7a9b23ce6d9c2f2d6",
       "version_major": 2,
       "version_minor": 0
      },
      "text/plain": [
       "FloatProgress(value=0.0, layout=Layout(width='auto'), style=ProgressStyle(bar_color='black'))"
      ]
     },
     "metadata": {},
     "output_type": "display_data"
    },
    {
     "name": "stdout",
     "output_type": "stream",
     "text": [
      "┌──────────────┬─────────────┐\n",
      "│     wiki     │ count(wiki) │\n",
      "│   varchar    │    int64    │\n",
      "├──────────────┼─────────────┤\n",
      "│ commonswiki  │        2523 │\n",
      "│ wikidatawiki │         827 │\n",
      "│ enwiki       │         729 │\n",
      "│ ruwiki       │         194 │\n",
      "│ ruwikiquote  │         173 │\n",
      "│ enwiktionary │         117 │\n",
      "│ frwiki       │         105 │\n",
      "│ plwiki       │          99 │\n",
      "│ ptwiki       │          59 │\n",
      "│ mgwiktionary │          56 │\n",
      "│   ·          │           · │\n",
      "│   ·          │           · │\n",
      "│   ·          │           · │\n",
      "│ hawiki       │           1 │\n",
      "│ frwikibooks  │           1 │\n",
      "│ dawiki       │           1 │\n",
      "│ dewikivoyage │           1 │\n",
      "│ gawiki       │           1 │\n",
      "│ etwiki       │           1 │\n",
      "│ cswiki       │           1 │\n",
      "│ anpwiki      │           1 │\n",
      "│ lawiki       │           1 │\n",
      "│ hrwiki       │           1 │\n",
      "├──────────────┴─────────────┤\n",
      "│     76 rows (20 shown)     │\n",
      "└────────────────────────────┘\n",
      "\n"
     ]
    }
   ],
   "source": [
    "import duckdb\n",
    "import matplotlib.pyplot as plt\n",
    "import seaborn as sns\n",
    "\n",
    "conn = duckdb.connect()\n",
    "\n",
    "conn.query(\"\"\"\n",
    "               INSTALL httpfs;\n",
    "               LOAD httpfs;\n",
    "                CREATE SECRET secretaws (\n",
    "                TYPE S3, \n",
    "                URL_STYLE 'path',\n",
    "                ENDPOINT 'localhost:9000',\n",
    "                KEY_ID 'minioRootUser',\n",
    "                SECRET 'iLoveCoding1234',\n",
    "                REGION 'us-east-1',\n",
    "                USE_SSL FALSE\n",
    "            );\n",
    "               \"\"\")\n",
    "\n",
    "df = conn.query(\"\"\"\n",
    "                SELECT wiki, count(wiki)\n",
    "                FROM read_parquet('s3://wikichanges/topics/wikimedia.recentchange/partition=0/wikimedia.recentchange*.parquet')\n",
    "                GROUP BY wiki\n",
    "                ORDER BY count(wiki) DESC\n",
    "                ;\n",
    "                \"\"\")\n",
    "\n",
    "df.show()"
   ]
  },
  {
   "cell_type": "code",
   "execution_count": 11,
   "metadata": {},
   "outputs": [
    {
     "data": {
      "application/vnd.jupyter.widget-view+json": {
       "model_id": "0d6caba52d66411f9c73f4874c7f60eb",
       "version_major": 2,
       "version_minor": 0
      },
      "text/plain": [
       "FloatProgress(value=0.0, layout=Layout(width='auto'), style=ProgressStyle(bar_color='black'))"
      ]
     },
     "metadata": {},
     "output_type": "display_data"
    },
    {
     "data": {
      "image/png": "[encoded data removed]",
      "text/plain": [
       "<Figure size 500x300 with 1 Axes>"
      ]
     },
     "metadata": {},
     "output_type": "display_data"
    }
   ],
   "source": [
    "f, ax = plt.subplots(1, 1, figsize=(5, 3))\n",
    "ax = sns.barplot(x='wiki', y='count(wiki)', data=conn.sql(\"select * from df limit 10\").df())\n",
    "\n",
    "plt.show()"
   ]
  }
 ],
 "metadata": {
  "kernelspec": {
   "display_name": ".venv",
   "language": "python",
   "name": "python3"
  },
  "language_info": {
   "codemirror_mode": {
    "name": "ipython",
    "version": 3
   },
   "file_extension": ".py",
   "mimetype": "text/x-python",
   "name": "python",
   "nbconvert_exporter": "python",
   "pygments_lexer": "ipython3",
   "version": "3.12.3"
  }
 },
 "nbformat": 4,
 "nbformat_minor": 2
}
